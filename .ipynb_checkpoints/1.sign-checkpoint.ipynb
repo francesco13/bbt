{
 "cells": [
  {
   "cell_type": "markdown",
   "metadata": {
    "tags": []
   },
   "source": [
    "# Introduction to Keys and Signatures \n",
    "\n",
    "This is a short introduction to digital signatures by [Francesco Roda](mailto:francesco.roda@citi.com).\n",
    "\n",
    "**⚠️Use in conjunction with the training slides ⚠️**\n",
    "\n"
   ]
  },
  {
   "cell_type": "markdown",
   "metadata": {
    "tags": []
   },
   "source": [
    "**The code**    \n",
    "We define a few functions to generate a SECP256K1 key pair and sign a message with the private key and verify the signature with the public key. We will not encode the public key to derive a bitcoin and ethereum address."
   ]
  },
  {
   "cell_type": "code",
   "execution_count": null,
   "metadata": {
    "tags": []
   },
   "outputs": [],
   "source": [
    "%pip install -q ecdsa\n",
    "%pip install -q binascii\n",
    "\n",
    "import ecdsa \n",
    "import binascii\n",
    "\n",
    "def generate_keys():\n",
    "    kpr = ecdsa.SigningKey.generate(curve=ecdsa.SECP256k1)\n",
    "    private_key = kpr.to_string().hex()\n",
    "    kpu = kpr.get_verifying_key() \n",
    "    public_key = kpu.to_string().hex()\n",
    "    return public_key, private_key, kpr\n",
    "def derive_public_key(private_key_asc):\n",
    "    #kpr_bytes =codecs.decode(private_key_asc, 'hex') #back to bytes\n",
    "    kpr_bytes = binascii.unhexlify(private_key_asc)\n",
    "    kpu = ecdsa.SigningKey.from_string(kpr_bytes, curve=ecdsa.SECP256k1).verifying_key\n",
    "    #kpu_hex = '04' + codecs.encode(kpu.to_string(), 'hex').decode(\"utf-8\")  #back to string\n",
    "    kpu_hex = '04' + binascii.b2a_hex(kpu.to_string()).decode(\"utf-8\")\n",
    "    return kpu_hex\n",
    "def sign_message(message, private_key): \n",
    "    bmessage = message.encode()\n",
    "    sk = ecdsa.SigningKey.from_string(bytes.fromhex(private_key), curve=ecdsa.SECP256k1)\n",
    "    signature = sk.sign(bmessage)\n",
    "    return signature, message\n",
    "def verify_signature(public_key, signature, message): \n",
    "    vk = ecdsa.VerifyingKey.from_string(bytes.fromhex(public_key), curve=ecdsa.SECP256k1)\n",
    "    try: \n",
    "      vk.verify(signature, message.encode())\n",
    "      return True \n",
    "    except:\n",
    "      return False"
   ]
  },
  {
   "cell_type": "markdown",
   "metadata": {},
   "source": [
    "**Create a key pair**  \n",
    "We use the generate_key() function to randomly generate a private key and derive the corresponding public key.  \n",
    "The author will use the private key to digitally sign a message. Readers will use the public key of the sender to verify the integrity of the message published.  \n",
    "The author publishes his public key, the message and the digital signature. Of course the author does not publish the private key. "
   ]
  },
  {
   "cell_type": "code",
   "execution_count": null,
   "metadata": {
    "tags": []
   },
   "outputs": [],
   "source": [
    "public_key, private_key, private_key_u = generate_keys()\n",
    "print(\"Public key:\", public_key)\n",
    "print(\"Private key:\", private_key)\n"
   ]
  },
  {
   "cell_type": "markdown",
   "metadata": {},
   "source": [
    "**The sender uses his private key to sign a message**  \n",
    "We use the sign_message() function to sign a message with the private key."
   ]
  },
  {
   "cell_type": "code",
   "execution_count": null,
   "metadata": {
    "tags": []
   },
   "outputs": [],
   "source": [
    "signature, message = sign_message(\"I owe John 20 pounds, Sincerely Francesco Roda\", private_key)\n",
    "print(\"Message: \", message)\n",
    "print(\"Signature: \",signature.hex())"
   ]
  },
  {
   "cell_type": "markdown",
   "metadata": {},
   "source": [
    "**The recipient uses the sender public key to verify the integrity of the message**  \n",
    "We use the verify_signature() function to check the signature for a given message and a given private key."
   ]
  },
  {
   "cell_type": "code",
   "execution_count": null,
   "metadata": {
    "tags": []
   },
   "outputs": [],
   "source": [
    "test = verify_signature(public_key, signature, message) #this is what miners do \n",
    "print(\"The digital signature proves the integrity of the message\", test)"
   ]
  },
  {
   "cell_type": "markdown",
   "metadata": {},
   "source": [
    "**The recipient uses the sender public key to verify the integrity of another message with the same digital signature**\n",
    "We use the verify_signature() function to check the signature for a given message and a given private key."
   ]
  },
  {
   "cell_type": "code",
   "execution_count": null,
   "metadata": {
    "tags": []
   },
   "outputs": [],
   "source": [
    "message_changed = \"I owe John 19 pounds, Sincerely Francesco Roda\"\n",
    "print(\"New message: \", message_changed)\n",
    "test = verify_signature(public_key, signature, message_changed)\n",
    "print(\"The digital signature proves the integrity of the message\", test) "
   ]
  },
  {
   "cell_type": "code",
   "execution_count": null,
   "metadata": {},
   "outputs": [],
   "source": []
  }
 ],
 "metadata": {
  "kernelspec": {
   "display_name": "saturn (Python 3)",
   "language": "python",
   "name": "python3"
  },
  "language_info": {
   "codemirror_mode": {
    "name": "ipython",
    "version": 3
   },
   "file_extension": ".py",
   "mimetype": "text/x-python",
   "name": "python",
   "nbconvert_exporter": "python",
   "pygments_lexer": "ipython3",
   "version": "3.9.12"
  }
 },
 "nbformat": 4,
 "nbformat_minor": 4
}
