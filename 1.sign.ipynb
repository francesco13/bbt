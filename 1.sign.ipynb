{
 "cells": [
  {
   "cell_type": "markdown",
   "metadata": {},
   "source": [
    "# 1. Keys and Signatures \n",
    "\n",
    "Start from the top cell of the workbook and run each cell by pressing the play button at the top of the window ▶️\n",
    "\n",
    "💡 Blockchain relies on digital signatures - a public key cryptography scheme - to ensure the integrity and ownership of transactions.  \n",
    "\n",
    "**Symmetric Cryptography**    \n",
    "Cryptography has been used since the early days of human civilisation by the military to secure communications between the generals in the battlefields and the command centre.  \n",
    "The Greek historian Polybius developed an algorithm based on the coordinates of a square containing all the letters of the alphabet to encrypt individual letters in the plaintext. The numbers used for the coordinates of the letters on the table is the private key communicated to the intended recipient of the message. \n",
    "\n",
    "| |1|2|3|4|5|\n",
    "|---|---|---|---|---|---|\n",
    "|**1**| A|B|Γ|Δ|E|\n",
    "|**2**|Z|H|Θ|I|K|\n",
    "|**3**|Λ|M|N|Ξ|O|\n",
    "|**4**|Π|P|Σ|T|Y|\n",
    "|**5**|Φ|X|Ψ|Ω|  \n",
    "\n",
    "\n",
    "Caesar developed a simple encryption algorithm where each letter in the plaintext[^1]. is replaced by a letter some fixed number of positions down the alphabet.  For example, if the agreed “shift” is two, the plaintext “car” is encrypted as “ect”. \n",
    "[^1]: In cryptography, plaintext usually means unencrypted information pending input into cryptographic algorithms, usually encryption algorithms. This usually refers to data that is transmitted or stored unencrypted.\n",
    "\n",
    "|    |    | A  | B  | C  | D  | E  | F  | G  | H  | I  | J  | K  | L  | M  | N  | O  | P  | Q  | R  | S  | T  | U  | V  | W  | X  | Y  | Z  |\n",
    "|----|----|----|----|----|----|----|----|----|----|----|----|----|----|----|----|----|----|----|----|----|----|----|----|----|----|----|----|\n",
    "| A  | B  | C  | D  | E  | F  | G  | H  | I  | J  | K  | L  | M  | N  | O  | P  | Q  | R  | S  | T  | U  | V  | W  | X  | Y  | Z  |    |    |\n",
    "\n",
    "\n",
    "The Caesar algorithm is particularly easy to crack through brute force as a maximum of twenty-six attempts is required to guess the right key.\n",
    "Substitution algorithms evolved over time to include longer shift keys. The Vigenère cypher (first described by Giovan Battista Bellaso but wrongly attributed to Blaise de Vigenère) but remained prone to frequency analysis, a cryptanalysis technique that exploits the fact that certain letters or sequences of letters occur more frequently than others in natural language.  \n",
    "Algorithms that always produces the ***same ciphertext*** are called ***deterministic***, as opposed to ***probabilistic*** encryption schemes that produce ***different cyphertexts*** every time they are used with the same parameters. A paper published in 1983 by S. Goldwasser and S. Micali first described a probabilistic encryption scheme. \n",
    "\n",
    "**Public Key Cryptography**  \n",
    "Public-key cryptography was introduced by R. Rivest, A. Shamir and L. Adleman in 1978. The authors were aware that the ***randomness*** introduced during the encryption process made their scheme ***probabilistic***. However, they did not explicitly stated that, as the concept of probabilistic encryption had not yet been introduced.   \n",
    "With symmetric-key encryption, the encryption key is the same as (or can be calculated from) the decryption key and vice versa.  \n",
    "Public-key encryption involves a pair of keys, a public key and a private key, associated with an entity. Each public key is published, and the corresponding private key is kept secret.  \n",
    "Data encrypted with a public key can be decrypted only with the corresponding private key.  \n",
    "💡 Public key encryption allows two people to communicate securely over an insecure channel (like the internet) without needing to share a secret key beforehand.  \n",
    "\n",
    "💭 *The public key can be shared with anyone, but the private key is kept secret.*  \n",
    "> If someone wants to send a secret message to the owner of the public key, they encrypt the message using the public key.   \n",
    "> Only the owner of the private key can decrypt the message.  \n",
    "\n",
    "Here's an example: Alice wants to send a secret message to Bob. Bob generates a public key and a private key. He shares the public key with Alice, and keeps the private key secret. Alice uses Bob's public key to encrypt her message, and sends it to Bob over the internet. Bob uses his private key to decrypt the message and read what Alice sent.\n",
    "\n",
    "💭 The beauty of public key encryption is that it allows two people to communicate securely without needing to share a secret key beforehand.  \n",
    "\n",
    "***Hashing*** \n",
    "It is useful to ensure the integrity of a piece of data, as any small change to the data will result in a completely different hash value.  \n",
    "💭 A hashing algorithm is a mathematical function that takes an input (such as a message or file) and produces a *fixed-size output*, known as a hash value. The output is a unique digital \"fingerprint\" of the input data.  \n",
    "A simple hashing algorithm can be built with the modulus function.  \n",
    "💡 K modulus M is the remainder of K when divided by M, where M is prime number (a number that is not the multiple of another number, i.e. cannot be divided by any whole number other than itself).\n",
    "> An efficient hashing algorithm is quick to calculate, produces a small hash and minimises the probability of conflicts.  \n",
    "> A conflict occurs when two distinct numbers (or other data aggregates) produce the same hash. \n",
    "\n",
    "***Digital Signatures***  \n",
    "Public key cryptography can also be used to generate digital signatures to guarantee the integrity of communications.  \n",
    "Here is the recipe to create digital signatures:\n",
    "> The sender of the message generates a hash of the message to be signed.  \n",
    "> The sender encrypts the hash with her private key.    \n",
    "> The recipient of the message uses the public key of the sender to verify the validity of the digital signature.  \n",
    "\n",
    "**A Primer on Functions**  \n",
    "This training will use Python functions extensively.  \n",
    "Functions typically take an input, perform some operation on it and returns the output.\n",
    "The function \"power of two\", for example, can be represented as\n",
    "``` Math\n",
    "y = x * x.\n",
    "```\n",
    "\n",
    "In this example, y is the output, x, is the input and and the operation performed on the input is to multiply it by itself.\n",
    "\n",
    "x and y are variables as they will take whatever value is assigned to them. \n",
    "In Python variables can have any name as long as it does not beging with a number, and contains only letters.  \n",
    "Variable names are case sensitive\n",
    "To assign a value to a variable use the equal sign; the code below creates two distinct variables and assigns the value 5 to the first one and 3 to the second one:\n",
    "\n",
    "```python\n",
    "MyVariable = 5\n",
    "myvariable = 3\n",
    "```\n",
    "\n",
    "You can also assign a string of characters to a variable, as follows:\n",
    "```python\n",
    "MyVariable = \"This is a string of more than 10 characters!\"\n",
    "```\n",
    "\n",
    "Note that the string of characters is between double quotes, to inform the system that you do not intend to create or refer to a new variable.  \n",
    "Strings can also be encolsed inn single quotes as follows:\n",
    "```python\n",
    "MyNewVariable = 'A different string.'\n",
    "```\n",
    "\n",
    "Functions in Python are represented as follows:\n",
    "\n",
    "```python\n",
    "def name_of_the_function(inputs separated by commas):\n",
    "    some operations on the inputs\n",
    "    #any comments to make the code more readeble\n",
    "    return some value or values\n",
    "``` \n",
    " \n",
    "The keyword **def**  tells the system that a definition of a function will follow.  \n",
    "The new function:  \n",
    "- must have a name\n",
    "- can have some or no inputs (between brackets) \n",
    "- can return some or no values  \n",
    "\n",
    "Use the keyword **return** to tell the system that what follows is (or are) the value (or values) returned by the function.  \n",
    "Use the character ***#*** to tell the system that what follows is a comment and not an instruction.  \n",
    "\n",
    "Here is the function \"power of two\" in Python.\n",
    " \n",
    "```python\n",
    "def power_of_two(x):\n",
    "    y = x * x\n",
    "    #A comment: we used the variable y to hold the output, but we could have also returned x * x directly \n",
    "    return y\n",
    "``` \n",
    " \n",
    "Here is how the function can be used:\n",
    "```python\n",
    "print(power_of_two(3))\n",
    "``` \n",
    "\n",
    "The command ```python print() ``` tells the system to print whatever is within brackets. In this example it will print the number nine, having evaluated the function power_of_two(3).\n",
    "```python print() ``` is also a function. Please note that a function can take the output of another function as its input.\n",
    " \n",
    "Another example. \n",
    "If you try to divide any number by zero, the system will complain, halting the execution of your program and dispalying an error message.  \n",
    "In the next cell, try: \n",
    "```python\n",
    "print(10/0)\n",
    "```\n",
    "To solve this problem, you could write a function to handle this situation garcefully. For example, you can decide to return a zero in the event that users attempt to divide a number by zero.  \n",
    "```python\n",
    "def divide(numerator, denominator):\n",
    "    if denominator == 0:\n",
    "        return 0\n",
    "    else:\n",
    "        return numerator/denominator \n",
    "```\n",
    "You can use this function for the following calculations:\n",
    "```python\n",
    "print(divide(10,5))\n",
    "print(divide(10,0))\n",
    "```\n",
    "\n",
    "**Exercise**  \n",
    "Write a function that, given an account, returns true if the limit has been breached or false otherwise.      \n",
    "Test the function with three separate accounts that represent all possible scenarios.  \n",
    "\n",
    "If you want to practice functions further, design and implement a hashing algorithm that returns a single digit number regardless of the length of the given input.  \n",
    "💭 The modulus operator in python is the symbol %.  \n",
    "What is the probability of a conflict of your algorithm if the given input is a number between 0 and 99?\n",
    "\n",
    "#Cell 1"
   ]
  },
  {
   "cell_type": "code",
   "execution_count": null,
   "metadata": {},
   "outputs": [],
   "source": [
    "#your code:\n",
    "\n",
    "#Cell 2"
   ]
  },
  {
   "cell_type": "code",
   "execution_count": null,
   "metadata": {
    "tags": []
   },
   "outputs": [],
   "source": [
    "print(\"Generating functions...\") \n",
    "\n",
    "%pip install ecdsa -q\n",
    "import ecdsa \n",
    "import binascii\n",
    "\n",
    "def generate_keys(): # Note, this funciton does not take any input, keys are generated at random!\n",
    "    kpr = ecdsa.SigningKey.generate(curve=ecdsa.SECP256k1)\n",
    "    private_key = kpr.to_string().hex()\n",
    "    kpu = kpr.get_verifying_key() \n",
    "    public_key = kpu.to_string().hex()\n",
    "    return public_key, private_key\n",
    "    #Note, this function will return two outputs, a public and a private key\n",
    "\n",
    "def sign_message(message, private_key): \n",
    "    bmessage = message.encode()\n",
    "    sk = ecdsa.SigningKey.from_string(bytes.fromhex(private_key), curve=ecdsa.SECP256k1)\n",
    "    signature = sk.sign(bmessage)\n",
    "    return signature.hex(), message\n",
    "\n",
    "def verify_signature(public_key, signature, message): \n",
    "    vk = ecdsa.VerifyingKey.from_string(bytes.fromhex(public_key), curve=ecdsa.SECP256k1)\n",
    "    try: \n",
    "      vk.verify(bytes.fromhex(signature), message.encode())\n",
    "      return True \n",
    "    except:\n",
    "      return False\n",
    "  \n",
    "\n",
    "print(\"Functions generated, you can now use them on this workbook to generate key pairs, sign messages and verify digital signatures.\") \n",
    "\n",
    "#Cell 3"
   ]
  },
  {
   "cell_type": "markdown",
   "metadata": {},
   "source": [
    "**Create a key pair**  \n",
    "We use the generate_key() function to randomly generate a private key and derive the corresponding public key.  \n",
    "In this session we let the system generate a private key at random. In the next session we will explore interesting alternatives. \n",
    "The author (sender of the message) will use the private key to digitally sign a message. Readers will use the public key of the author to verify the integrity of the message published.  \n",
    "The author will also be able to encrypt the message, using her private key.  \n",
    "The author publishes his public key, the message and the digital signature. Of course the author does not publish the private key.  \n",
    "\n",
    "#Cell 4"
   ]
  },
  {
   "cell_type": "code",
   "execution_count": null,
   "metadata": {
    "tags": []
   },
   "outputs": [],
   "source": [
    "# Here the keys are also assigned to variables.\n",
    "public_key, private_key = generate_keys()\n",
    "print(\"Public key:\", public_key)\n",
    "print(\"Private key:\", private_key)\n",
    "\n",
    "#Cell 5"
   ]
  },
  {
   "cell_type": "markdown",
   "metadata": {},
   "source": [
    "**The sender uses his private key to sign a message**  \n",
    "We use the sign_message() function to sign a message with the private key.\n",
    "\n",
    "#Cell 6"
   ]
  },
  {
   "cell_type": "code",
   "execution_count": null,
   "metadata": {
    "tags": []
   },
   "outputs": [],
   "source": [
    "signature, message = sign_message(\"I owe John 21 pounds, Sincerely Francesco Roda\", private_key)\n",
    "print(\"Message: \", message)\n",
    "print(\"Signature: \",signature)\n",
    "\n",
    "#Cell 7"
   ]
  },
  {
   "cell_type": "markdown",
   "metadata": {},
   "source": [
    "**The recipient uses the sender public key to verify the integrity of the message**  \n",
    "We use the verify_signature() function to check the signature for a given message and a given private key.\n",
    "\n",
    "#Cell 8"
   ]
  },
  {
   "cell_type": "code",
   "execution_count": null,
   "metadata": {
    "tags": []
   },
   "outputs": [],
   "source": [
    "test = verify_signature(public_key, '6b298bb3bc945d7ceec829c60779611f66f243a86fba766d0217702a7d60f2bedcc1958e7c5a5f25bb36dc929adf23d4830217f4045f43039d5b78aed2c0e016', message) #this is what miners do \n",
    "print(\"The digital signature proves the integrity of the message\", test)\n",
    "\n",
    "#Cell 9"
   ]
  },
  {
   "cell_type": "markdown",
   "metadata": {},
   "source": [
    "**The recipient uses the sender public key to verify the integrity of another message with the same digital signature**  \n",
    "We use the verify_signature() function to check the signature for a given message and a given private key.\n",
    "\n",
    "#Cell 10"
   ]
  },
  {
   "cell_type": "code",
   "execution_count": null,
   "metadata": {
    "tags": []
   },
   "outputs": [],
   "source": [
    "message_changed = \"I owe John 19 pounds, Sincerely Francesco Roda\"\n",
    "print(\"New message: \", message_changed)\n",
    "test = verify_signature(public_key, signature, message_changed)\n",
    "print(\"The digital signature proves the integrity of the message\", test) \n",
    "\n",
    "#Cell 11"
   ]
  },
  {
   "cell_type": "markdown",
   "metadata": {
    "execution": {
     "iopub.execute_input": "2023-03-24T12:29:10.415679Z",
     "iopub.status.busy": "2023-03-24T12:29:10.414996Z",
     "iopub.status.idle": "2023-03-24T12:29:11.003276Z",
     "shell.execute_reply": "2023-03-24T12:29:11.000846Z",
     "shell.execute_reply.started": "2023-03-24T12:29:10.415645Z"
    }
   },
   "source": [
    "**\"Sending\" messages**  \n",
    "Digitally signed messages can be send via email to the intended recipient but they do not guarantee privacy: if the message is intercepted, its content is clear for everyone to read.  \n",
    "Public key cryptography can be used to enforce privacy of cimmunications.  \n",
    "The recipe is as follows:  \n",
    "> The recipient publishes her public key  \n",
    "> The sender encrypts the message with her public key of the recipient  \n",
    "> The encrypted message is published: there is no need to send it as no one but the recipient can decrypt it       \n",
    "> The recipient decrypts the message with her private key to access its content   \n",
    ">\n",
    "💡 Public key cryptography is also called asymettric cryptography: the asymmetry refers to the role of the public key (encypt messages) and the need for the private key to decrypt them.\n",
    "💡 More formally:   \n",
    "> a single key is required to encypt a message (the public key of the recipient)  \n",
    "> both keys are required to decrypt a message  \n",
    "> the public key can be derived from the private key but **not vice versa**   \n",
    ">\n",
    "The code below defines functions that use the SECP256K1 algorithm to encrypt and decrypt messages.   \n",
    "\n",
    "#Cell 12"
   ]
  },
  {
   "cell_type": "code",
   "execution_count": 2,
   "metadata": {
    "tags": []
   },
   "outputs": [
    {
     "name": "stdout",
     "output_type": "stream",
     "text": [
      "Generating functions...\n"
     ]
    },
    {
     "ename": "ModuleNotFoundError",
     "evalue": "No module named 'Crypto'",
     "output_type": "error",
     "traceback": [
      "\u001b[0;31m---------------------------------------------------------------------------\u001b[0m",
      "\u001b[0;31mModuleNotFoundError\u001b[0m                       Traceback (most recent call last)",
      "Cell \u001b[0;32mIn[2], line 2\u001b[0m\n\u001b[1;32m      1\u001b[0m \u001b[38;5;28mprint\u001b[39m(\u001b[38;5;124m\"\u001b[39m\u001b[38;5;124mGenerating functions...\u001b[39m\u001b[38;5;124m\"\u001b[39m) \n\u001b[0;32m----> 2\u001b[0m \u001b[38;5;28;01mimport\u001b[39;00m \u001b[38;5;21;01mCrypto\u001b[39;00m\n\u001b[1;32m      3\u001b[0m \u001b[38;5;28;01mfrom\u001b[39;00m \u001b[38;5;21;01mCrypto\u001b[39;00m\u001b[38;5;21;01m.\u001b[39;00m\u001b[38;5;21;01mPublicKey\u001b[39;00m \u001b[38;5;28;01mimport\u001b[39;00m RSA\n\u001b[1;32m      4\u001b[0m \u001b[38;5;28;01mfrom\u001b[39;00m \u001b[38;5;21;01mCrypto\u001b[39;00m\u001b[38;5;21;01m.\u001b[39;00m\u001b[38;5;21;01mCipher\u001b[39;00m \u001b[38;5;28;01mimport\u001b[39;00m PKCS1_OAEP\n",
      "\u001b[0;31mModuleNotFoundError\u001b[0m: No module named 'Crypto'"
     ]
    }
   ],
   "source": [
    "print(\"Generating functions...\") \n",
    "from Crypto.PublicKey import RSA\n",
    "from Crypto.Cipher import PKCS1_OAEP\n",
    "import base64\n",
    "\n",
    "def generate_rsa_keys():\n",
    "    modulus_length = 1024\n",
    "    key = RSA.generate(modulus_length)\n",
    "    pub_key = key.publickey()\n",
    "    return key.export_key().hex(), pub_key.export_key().hex()\n",
    "\n",
    "def encrypt(message, public_key):\n",
    "    encryptor = PKCS1_OAEP.new(RSA.import_key(bytes.fromhex(public_key)))\n",
    "    encrypted_msg = encryptor.encrypt(message.encode())\n",
    "    return encrypted_msg.hex()\n",
    "\n",
    "def decrypt(encoded_encrypted_msg, private_key):\n",
    "    decryptor = PKCS1_OAEP.new(RSA.import_key(bytes.fromhex(private_key)))\n",
    "    decrypted = decryptor.decrypt(bytes.fromhex(encoded_encrypted_msg))\n",
    "    return decrypted.decode() \n",
    "\n",
    "print(\"Functions generated, you can now use them on this workbook to encrypt and decrypt messages.\") \n",
    "\n",
    "#Cell 13"
   ]
  },
  {
   "cell_type": "markdown",
   "metadata": {},
   "source": [
    "**Group Exercise**    \n",
    "Work in pairs to complete the following tasks:  \n",
    "> 1) Exchange a signed message and verify its integrity\n",
    "> 2) Exchange an encrypted message\n",
    "> 3) Exchange an encrypted and signed message  \n",
    ">\n",
    "💡 To complete these task each player would need to create a key pair. Players should not disclose their private keys!  \n",
    "\n",
    "💭 ***Use the functions defined in this workbook. For your convenience they are listed below***  \n",
    "> generate_keys()  ℹ️ *Returns a public key and a private key. Store the private key somewhere you can retrieve it from and send the public key to anyone you wish to communicate with (ideally, you would publish it to a secure repository)*    \n",
    "> derive_public_key(private_key_asc)  ℹ️ *Requires a valid private key. You can use the one that you generated and saved. You probably do not need this function unless you forget your public key (but you still have your private key)*       \n",
    "> sign_message(message, private_key)  ℹ️ *Requires the message to be signed and the private key you will sign the message with. The function will return a signature, send it to anyone you wish to communicate with*  \n",
    "> verify_signature(public_key, signature, message)  ℹ️ *Requires the publick key of the author of the message, the signature and the message to be verified*  \n",
    "> encrypt_message(public_key, message)  ℹ️ *Requires the publick key of the recipient of the message, and the message to be encrypted. The funciton returns the encrypted (unreadaeble) message*      \n",
    "> decrypt_message(private_key, encrypted message)  ℹ️ *Requires the private key of the recipient of the message, and the encrypted message to be decrypted*    \n",
    "        \n",
    "💭 ***Remember to use single or dourble quotes ('some text and 1 number' or \"some text and 1 number\") when entering strings of characters; alternatively use variables to store keys, signatures and messages, for example:***  \n",
    ">    private_key, public_key = generate_keys()  \n",
    "    *this function, unlike others, returns two values which you have to capture in two separate variables*  \n",
    "    \n",
    "#Cell 14"
   ]
  },
  {
   "cell_type": "code",
   "execution_count": null,
   "metadata": {},
   "outputs": [],
   "source": [
    "#your code:\n",
    "\n",
    "#Cell 15"
   ]
  },
  {
   "cell_type": "markdown",
   "metadata": {},
   "source": [
    "**Conclusions**  \n",
    "You have learned a key aspect of cryptography: digital signatures.  \n",
    "💡 Blockchains use digital signatures to ensure that transactions are posted by the user that owns the account which funds are transferred from.  \n",
    "Just like wet (traditional) signatures are used to ensure that a cheque is written by the owner of the account, digital signatures ensure that an account is operated only by its owner, the person who is in possession of the private key.  \n",
    "Blockchain transactions are like cheques: as soon as they are signed, they can be posted to the blockchain for the funds be transferred to the intended recipient.  \n",
    "Wet signatures can be counterfeited - digital signatures, that rely on strong cryptography, cannot!     \n",
    "\n",
    "#Cell 16"
   ]
  }
 ],
 "metadata": {
  "kernelspec": {
   "display_name": "Python 3 (ipykernel)",
   "language": "python",
   "name": "python3"
  },
  "language_info": {
   "codemirror_mode": {
    "name": "ipython",
    "version": 3
   },
   "file_extension": ".py",
   "mimetype": "text/x-python",
   "name": "python",
   "nbconvert_exporter": "python",
   "pygments_lexer": "ipython3",
   "version": "3.10.11"
  }
 },
 "nbformat": 4,
 "nbformat_minor": 4
}
