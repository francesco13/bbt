{
 "cells": [
  {
   "cell_type": "markdown",
   "metadata": {},
   "source": [
    "# Introduction to Keys and Signatures \n",
    "\n",
    "This is a short introduction to digital signatures by [Francesco Roda](mailto:francesco.roda@citi.com).  \n",
    "Start from the top cell of the workbook and run each cell by pressing the play button at the top of the window ▶️\n",
    "\n",
    "**The code**    \n",
    "Below, we define the functions to generate a SECP256K1 key pair, sign a message with the private key and verify the digital signature with the public key.  \n",
    "The code below uses a standard library, ecdsa, which contains the definitions for the SECP256K1 cryptographic functions.  \n",
    "In the working below we let the system generate a private key at random. In the next session we will explore interesting alternatives. "
   ]
  },
  {
   "cell_type": "code",
   "execution_count": 10,
   "metadata": {
    "execution": {
     "iopub.execute_input": "2023-03-27T13:43:35.876417Z",
     "iopub.status.busy": "2023-03-27T13:43:35.874033Z",
     "iopub.status.idle": "2023-03-27T13:43:35.896861Z",
     "shell.execute_reply": "2023-03-27T13:43:35.895124Z",
     "shell.execute_reply.started": "2023-03-27T13:43:35.876381Z"
    },
    "tags": []
   },
   "outputs": [
    {
     "name": "stdout",
     "output_type": "stream",
     "text": [
      "Functions defined, you can now use them. Remember to enclose strings of characters like messages and keys within quotes  - for example 'string of characters'\n"
     ]
    }
   ],
   "source": [
    "import ecdsa \n",
    "import binascii\n",
    "\n",
    "def generate_keys():\n",
    "    kpr = ecdsa.SigningKey.generate(curve=ecdsa.SECP256k1)\n",
    "    private_key = kpr.to_string().hex()\n",
    "    kpu = kpr.get_verifying_key() \n",
    "    public_key = kpu.to_string().hex()\n",
    "    return public_key, private_key #, kpr\n",
    "def derive_public_key(private_key_asc):\n",
    "    #kpr_bytes =codecs.decode(private_key_asc, 'hex') #back to bytes\n",
    "    kpr_bytes = binascii.unhexlify(private_key_asc)\n",
    "    kpu = ecdsa.SigningKey.from_string(kpr_bytes, curve=ecdsa.SECP256k1).verifying_key\n",
    "    #kpu_hex = '04' + codecs.encode(kpu.to_string(), 'hex').decode(\"utf-8\")  #back to string\n",
    "    kpu_hex = '04' + binascii.b2a_hex(kpu.to_string()).decode(\"utf-8\")\n",
    "    return kpu_hex\n",
    "def sign_message(message, private_key): \n",
    "    bmessage = message.encode()\n",
    "    sk = ecdsa.SigningKey.from_string(bytes.fromhex(private_key), curve=ecdsa.SECP256k1)\n",
    "    signature = sk.sign(bmessage)\n",
    "    return signature, message\n",
    "def verify_signature(public_key, signature, message): \n",
    "    vk = ecdsa.VerifyingKey.from_string(bytes.fromhex(public_key), curve=ecdsa.SECP256k1)\n",
    "    try: \n",
    "      vk.verify(signature, message.encode())\n",
    "      return True \n",
    "    except:\n",
    "      return False\n",
    "  \n",
    "\n",
    "print(\"Functions defined, you can now use them. Remember to enclose strings of characters like messages and keys within quotes  - for example \\'string of characters\\'\")"
   ]
  },
  {
   "cell_type": "markdown",
   "metadata": {},
   "source": [
    "**Create a key pair**  \n",
    "We use the generate_key() function to randomly generate a private key and derive the corresponding public key.  \n",
    "The author (sender of the message) will use the private key to digitally sign a message. Readers will use the public key of the author to verify the integrity of the message published.  \n",
    "The author publishes his public key, the message and the digital signature. Of course the author does not publish the private key.  "
   ]
  },
  {
   "cell_type": "code",
   "execution_count": 11,
   "metadata": {
    "execution": {
     "iopub.execute_input": "2023-03-27T13:43:40.767427Z",
     "iopub.status.busy": "2023-03-27T13:43:40.767042Z",
     "iopub.status.idle": "2023-03-27T13:43:40.772834Z",
     "shell.execute_reply": "2023-03-27T13:43:40.771868Z",
     "shell.execute_reply.started": "2023-03-27T13:43:40.767399Z"
    },
    "tags": []
   },
   "outputs": [
    {
     "name": "stdout",
     "output_type": "stream",
     "text": [
      "Public key: 22e0e82df2ba1d1847e9e2ad5911e044576fa27b941dd49b2b98092a9351b5c925f23fb3caf560ee8b98a226fa89ce38477a7c5ed9e4bcd7d5099761629f5bc1\n",
      "Private key: 0520f14bc55a02732af0620608ac5df7b46bf39edf95fb3b9e013be50e870543\n"
     ]
    }
   ],
   "source": [
    "#public_key, private_key, private_key_u = generate_keys()\n",
    "public_key, private_key = generate_keys()\n",
    "print(\"Public key:\", public_key)\n",
    "print(\"Private key:\", private_key)\n"
   ]
  },
  {
   "cell_type": "markdown",
   "metadata": {},
   "source": [
    "**The sender uses his private key to sign a message**  \n",
    "We use the sign_message() function to sign a message with the private key."
   ]
  },
  {
   "cell_type": "code",
   "execution_count": 56,
   "metadata": {
    "execution": {
     "iopub.execute_input": "2023-03-24T15:48:16.459144Z",
     "iopub.status.busy": "2023-03-24T15:48:16.458749Z",
     "iopub.status.idle": "2023-03-24T15:48:16.466160Z",
     "shell.execute_reply": "2023-03-24T15:48:16.465309Z",
     "shell.execute_reply.started": "2023-03-24T15:48:16.459116Z"
    },
    "tags": []
   },
   "outputs": [
    {
     "name": "stdout",
     "output_type": "stream",
     "text": [
      "Message:  I owe John 21 pounds, Sincerely Francesco Roda\n",
      "Signature:  07b90887b3230aebcd60f52a0fe8272148675cd9ecfa3260dff5616f005c782ae4c4a7b808a08016c723256772fda99a3fe185c10ceee09debf0eb85c87bd69c\n"
     ]
    }
   ],
   "source": [
    "signature, message = sign_message(\"I owe John 21 pounds, Sincerely Francesco Roda\", private_key)\n",
    "print(\"Message: \", message)\n",
    "print(\"Signature: \",signature.hex())"
   ]
  },
  {
   "cell_type": "markdown",
   "metadata": {},
   "source": [
    "**The recipient uses the sender public key to verify the integrity of the message**  \n",
    "We use the verify_signature() function to check the signature for a given message and a given private key."
   ]
  },
  {
   "cell_type": "code",
   "execution_count": 54,
   "metadata": {
    "execution": {
     "iopub.execute_input": "2023-03-24T15:46:19.721009Z",
     "iopub.status.busy": "2023-03-24T15:46:19.720690Z",
     "iopub.status.idle": "2023-03-24T15:46:19.736125Z",
     "shell.execute_reply": "2023-03-24T15:46:19.735271Z",
     "shell.execute_reply.started": "2023-03-24T15:46:19.720985Z"
    }
   },
   "outputs": [
    {
     "name": "stdout",
     "output_type": "stream",
     "text": [
      "The digital signature proves the integrity of the message True\n"
     ]
    }
   ],
   "source": [
    "test = verify_signature(public_key, signature, message) #this is what miners do \n",
    "print(\"The digital signature proves the integrity of the message\", test)"
   ]
  },
  {
   "cell_type": "markdown",
   "metadata": {},
   "source": [
    "**The recipient uses the sender public key to verify the integrity of another message with the same digital signature**  \n",
    "We use the verify_signature() function to check the signature for a given message and a given private key."
   ]
  },
  {
   "cell_type": "code",
   "execution_count": 55,
   "metadata": {
    "execution": {
     "iopub.execute_input": "2023-03-24T15:46:26.328448Z",
     "iopub.status.busy": "2023-03-24T15:46:26.327997Z",
     "iopub.status.idle": "2023-03-24T15:46:26.335836Z",
     "shell.execute_reply": "2023-03-24T15:46:26.334982Z",
     "shell.execute_reply.started": "2023-03-24T15:46:26.328419Z"
    }
   },
   "outputs": [
    {
     "name": "stdout",
     "output_type": "stream",
     "text": [
      "New message:  I owe John 19 pounds, Sincerely Francesco Roda\n",
      "The digital signature proves the integrity of the message False\n"
     ]
    }
   ],
   "source": [
    "message_changed = \"I owe John 19 pounds, Sincerely Francesco Roda\"\n",
    "print(\"New message: \", message_changed)\n",
    "test = verify_signature(public_key, signature, message_changed)\n",
    "print(\"The digital signature proves the integrity of the message\", test) "
   ]
  },
  {
   "cell_type": "markdown",
   "metadata": {
    "execution": {
     "iopub.execute_input": "2023-03-24T12:29:10.415679Z",
     "iopub.status.busy": "2023-03-24T12:29:10.414996Z",
     "iopub.status.idle": "2023-03-24T12:29:11.003276Z",
     "shell.execute_reply": "2023-03-24T12:29:11.000846Z",
     "shell.execute_reply.started": "2023-03-24T12:29:10.415645Z"
    }
   },
   "source": [
    "**\"Sending\" messages**  \n",
    "Digitally signed messages can be send via email to the intended recipient but they do not guarantee privacy: if the message is intercepted, its content is clear for everyone to read.  \n",
    "Public key cryptography can be used to enforce privacy of cimmunications.  \n",
    "The recipe is as follows:  \n",
    "> The recipient publishes her public key  \n",
    "> The sender encrypts the message with her public key of the recipient  \n",
    "> The encrypted message is published: there is no need to send it as no one but the recipient can decrypt it       \n",
    "> The recipient decrypts the message with her private key to access its content   \n",
    ">\n",
    "💡 Public key cryptography is also called asymettric cryptography: the asymmetry refers to the role of the public key (encypt messages) and the need for the private key to decrypt them.\n",
    "💡 More formally:   \n",
    "> a single key is required to encypt a message (the public key of the recipient)  \n",
    "> both keys are required to decrypt a message  \n",
    "> the public key can be derived from the private key but **not vice versa**   \n",
    ">\n",
    "The code below defines functions that use the SECP256K1 algorithm to encrypt and decrypt messages.   "
   ]
  },
  {
   "cell_type": "code",
   "execution_count": 1,
   "metadata": {
    "execution": {
     "iopub.execute_input": "2023-03-24T16:41:22.361370Z",
     "iopub.status.busy": "2023-03-24T16:41:22.360436Z",
     "iopub.status.idle": "2023-03-24T16:41:22.617363Z",
     "shell.execute_reply": "2023-03-24T16:41:22.616322Z",
     "shell.execute_reply.started": "2023-03-24T16:41:22.361271Z"
    },
    "tags": []
   },
   "outputs": [],
   "source": [
    "from ecies.utils import generate_eth_key\n",
    "from ecies.utils import generate_eth_key\n",
    "from ecies import encrypt, decrypt\n",
    "def encrypt_message(public_key, message):\n",
    "    pubhex =  public_key\n",
    "    msghex = message.encode()\n",
    "    return encrypt(pubhex, msghex)\n",
    "def decrypt_message(private_key, message):\n",
    "    prvhex = private_key\n",
    "    msghex = message\n",
    "    return decrypt(prvhex, message).decode()"
   ]
  },
  {
   "cell_type": "markdown",
   "metadata": {},
   "source": [
    "**Group Exercise**    \n",
    "Work in pairs to complete the following tasks:  \n",
    "> 1) Exchange a signed message and verify its integrity\n",
    "> 2) Exchange and encrypted message\n",
    "> 3) Exchange an encrypted and signed message  \n",
    ">\n",
    "💡 To complete these task each player would need to create a key pair and publish her public key  \n",
    "*Use the functions defined in this workbook as a reminder they are listed below*  \n",
    "        generate_keys()  \n",
    "        derive_public_key(private_key_asc), *returns public_key, private_key, kpr*  \n",
    "        sign_message(message, private_key)  \n",
    "        verify_signature(public_key, signature, message)  \n",
    "        encrypt_message(public_key, message)  \n",
    "        decrypt_message(private_key, message)  \n",
    "        \n",
    "        \n",
    "\n",
    "        "
   ]
  },
  {
   "cell_type": "code",
   "execution_count": 7,
   "metadata": {
    "execution": {
     "iopub.execute_input": "2023-03-27T13:35:32.549608Z",
     "iopub.status.busy": "2023-03-27T13:35:32.549156Z",
     "iopub.status.idle": "2023-03-27T13:35:32.556183Z",
     "shell.execute_reply": "2023-03-27T13:35:32.555210Z",
     "shell.execute_reply.started": "2023-03-27T13:35:32.549579Z"
    },
    "tags": []
   },
   "outputs": [
    {
     "name": "stdout",
     "output_type": "stream",
     "text": [
      "Private key:  42414931c4e2ab3a77405ecef3ad0b059b959e75951aca27911ae3745db9d0f5\n",
      "Public key:  6f629d22c7a48c75913ccd59b41a6ff8ca9829f54923208d221c257368e50b932286d0532131e45b248b802c7712d30769d199fbc119a9133560c55737c76e5f\n"
     ]
    },
    {
     "data": {
      "text/plain": [
       "('6f629d22c7a48c75913ccd59b41a6ff8ca9829f54923208d221c257368e50b932286d0532131e45b248b802c7712d30769d199fbc119a9133560c55737c76e5f',\n",
       " '42414931c4e2ab3a77405ecef3ad0b059b959e75951aca27911ae3745db9d0f5',\n",
       " <ecdsa.keys.SigningKey at 0x7f27f892fe20>)"
      ]
     },
     "execution_count": 7,
     "metadata": {},
     "output_type": "execute_result"
    }
   ],
   "source": [
    "generate_keys()"
   ]
  },
  {
   "cell_type": "code",
   "execution_count": null,
   "metadata": {},
   "outputs": [],
   "source": []
  }
 ],
 "metadata": {
  "kernelspec": {
   "display_name": "saturn (Python 3)",
   "language": "python",
   "name": "python3"
  },
  "language_info": {
   "codemirror_mode": {
    "name": "ipython",
    "version": 3
   },
   "file_extension": ".py",
   "mimetype": "text/x-python",
   "name": "python",
   "nbconvert_exporter": "python",
   "pygments_lexer": "ipython3",
   "version": "3.9.12"
  }
 },
 "nbformat": 4,
 "nbformat_minor": 4
}
