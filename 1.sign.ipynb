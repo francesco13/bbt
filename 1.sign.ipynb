{
 "cells": [
  {
   "cell_type": "markdown",
   "metadata": {},
   "source": [
    "# Introduction to Keys and Signatures \n",
    "\n",
    "This is a short introduction to digital signatures by [Francesco Roda](mailto:francesco.roda@citi.com).  \n",
    "Start from the top cell of the workbook and run each cell by pressing the play button at the top of the window ▶️\n",
    "\n",
    "**The code**    \n",
    "Below, we define the functions to generate a SECP256K1 key pair, sign a message with the private key and verify the digital signature with the public key.  \n",
    "The code below uses two standard libraries, ***ecdsa*** and ***ecies***, which contain the definitions for the SECP256K1 cryptographic functions.  \n"
   ]
  },
  {
   "cell_type": "code",
   "execution_count": 1,
   "metadata": {
    "execution": {
     "iopub.execute_input": "2023-03-29T16:39:35.249771Z",
     "iopub.status.busy": "2023-03-29T16:39:35.249172Z",
     "iopub.status.idle": "2023-03-29T16:39:37.958714Z",
     "shell.execute_reply": "2023-03-29T16:39:37.957841Z",
     "shell.execute_reply.started": "2023-03-29T16:39:35.249693Z"
    },
    "tags": []
   },
   "outputs": [
    {
     "name": "stdout",
     "output_type": "stream",
     "text": [
      "Requirement already satisfied: ecdsa in /opt/conda/envs/saturn/lib/python3.9/site-packages (0.18.0)\n",
      "Requirement already satisfied: six>=1.9.0 in /opt/conda/envs/saturn/lib/python3.9/site-packages (from ecdsa) (1.16.0)\n",
      "Note: you may need to restart the kernel to use updated packages.\n",
      "Functions defined, you can now use them. Remember to enclose strings of characters like messages and keys within quotes  - for example 'string of characters'\n"
     ]
    }
   ],
   "source": [
    "%pip install ecdsa\n",
    "import ecdsa \n",
    "import binascii\n",
    "\n",
    "def generate_keys():\n",
    "    kpr = ecdsa.SigningKey.generate(curve=ecdsa.SECP256k1)\n",
    "    private_key = kpr.to_string().hex()\n",
    "    kpu = kpr.get_verifying_key() \n",
    "    public_key = kpu.to_string().hex()\n",
    "    return public_key, private_key #, kpr\n",
    "def derive_public_key(private_key_asc):\n",
    "    #kpr_bytes =codecs.decode(private_key_asc, 'hex') #back to bytes\n",
    "    kpr_bytes = binascii.unhexlify(private_key_asc)\n",
    "    kpu = ecdsa.SigningKey.from_string(kpr_bytes, curve=ecdsa.SECP256k1).verifying_key\n",
    "    #kpu_hex = '04' + codecs.encode(kpu.to_string(), 'hex').decode(\"utf-8\")  #back to string\n",
    "    kpu_hex = '04' + binascii.b2a_hex(kpu.to_string()).decode(\"utf-8\")\n",
    "    return kpu_hex\n",
    "def sign_message(message, private_key): \n",
    "    bmessage = message.encode()\n",
    "    sk = ecdsa.SigningKey.from_string(bytes.fromhex(private_key), curve=ecdsa.SECP256k1)\n",
    "    signature = sk.sign(bmessage)\n",
    "    return signature.hex(), message\n",
    "def verify_signature(public_key, signature, message): \n",
    "    vk = ecdsa.VerifyingKey.from_string(bytes.fromhex(public_key), curve=ecdsa.SECP256k1)\n",
    "    try: \n",
    "      vk.verify(bytes.fromhex(signature), message.encode())\n",
    "      return True \n",
    "    except:\n",
    "      return False\n",
    "  \n",
    "\n",
    "print(\"Functions defined, you can now use them. Remember to enclose strings of characters like messages and keys within quotes  - for example \\'string of characters\\'\")"
   ]
  },
  {
   "cell_type": "markdown",
   "metadata": {},
   "source": [
    "**Create a key pair**  \n",
    "We use the generate_key() function to randomly generate a private key and derive the corresponding public key.  \n",
    "In this session we let the system generate a private key at random. In the next session we will explore interesting alternatives. \n",
    "The author (sender of the message) will use the private key to digitally sign a message. Readers will use the public key of the author to verify the integrity of the message published.  \n",
    "The author will also be able to encrypt the message, using her private key.  \n",
    "The author publishes his public key, the message and the digital signature. Of course the author does not publish the private key.  "
   ]
  },
  {
   "cell_type": "code",
   "execution_count": 2,
   "metadata": {
    "execution": {
     "iopub.execute_input": "2023-03-29T16:39:37.962137Z",
     "iopub.status.busy": "2023-03-29T16:39:37.961781Z",
     "iopub.status.idle": "2023-03-29T16:39:37.978821Z",
     "shell.execute_reply": "2023-03-29T16:39:37.977819Z",
     "shell.execute_reply.started": "2023-03-29T16:39:37.962109Z"
    },
    "tags": []
   },
   "outputs": [
    {
     "name": "stdout",
     "output_type": "stream",
     "text": [
      "Public key: 3ab4d8933605d059886f9ec62fb4f389908a69c93dd2a2be4fb3210a75507833d9c29f761a8c816d3e87f976cbf859f2eb7d0f6ada984b5beb85d9bd9c3f0a9f\n",
      "Private key: d14a79d18ee7c9b2517d2c67da2b9d14460b76df2fd35f2a8691cf6cd8ce9659\n"
     ]
    }
   ],
   "source": [
    "# Here the keys are also assigned variables.\n",
    "public_key, private_key = generate_keys()\n",
    "print(\"Public key:\", public_key)\n",
    "print(\"Private key:\", private_key)\n"
   ]
  },
  {
   "cell_type": "markdown",
   "metadata": {},
   "source": [
    "**The sender uses his private key to sign a message**  \n",
    "We use the sign_message() function to sign a message with the private key."
   ]
  },
  {
   "cell_type": "code",
   "execution_count": 3,
   "metadata": {
    "execution": {
     "iopub.execute_input": "2023-03-29T16:39:38.116132Z",
     "iopub.status.busy": "2023-03-29T16:39:38.115563Z",
     "iopub.status.idle": "2023-03-29T16:39:38.124882Z",
     "shell.execute_reply": "2023-03-29T16:39:38.124214Z",
     "shell.execute_reply.started": "2023-03-29T16:39:38.116102Z"
    },
    "tags": []
   },
   "outputs": [
    {
     "name": "stdout",
     "output_type": "stream",
     "text": [
      "Message:  I owe John 21 pounds, Sincerely Francesco Roda\n",
      "Signature:  cf8496a6a5fe467ea092bae2aeb59907e7a8e4cccaddbbf65f0bc5ab19752f9f1b6dc57d1a85234dd1144b8ca7ef53b0a9b6c6ef19bcbd022b1b6e2b0d3d5b1a\n"
     ]
    }
   ],
   "source": [
    "signature, message = sign_message(\"I owe John 21 pounds, Sincerely Francesco Roda\", private_key)\n",
    "print(\"Message: \", message)\n",
    "print(\"Signature: \",signature)"
   ]
  },
  {
   "cell_type": "markdown",
   "metadata": {},
   "source": [
    "**The recipient uses the sender public key to verify the integrity of the message**  \n",
    "We use the verify_signature() function to check the signature for a given message and a given private key."
   ]
  },
  {
   "cell_type": "code",
   "execution_count": 4,
   "metadata": {
    "execution": {
     "iopub.execute_input": "2023-03-29T16:39:39.579039Z",
     "iopub.status.busy": "2023-03-29T16:39:39.578636Z",
     "iopub.status.idle": "2023-03-29T16:39:39.587154Z",
     "shell.execute_reply": "2023-03-29T16:39:39.586092Z",
     "shell.execute_reply.started": "2023-03-29T16:39:39.579012Z"
    },
    "tags": []
   },
   "outputs": [
    {
     "name": "stdout",
     "output_type": "stream",
     "text": [
      "The digital signature proves the integrity of the message False\n"
     ]
    }
   ],
   "source": [
    "test = verify_signature(public_key, '6b298bb3bc945d7ceec829c60779611f66f243a86fba766d0217702a7d60f2bedcc1958e7c5a5f25bb36dc929adf23d4830217f4045f43039d5b78aed2c0e016', message) #this is what miners do \n",
    "print(\"The digital signature proves the integrity of the message\", test)"
   ]
  },
  {
   "cell_type": "markdown",
   "metadata": {},
   "source": [
    "**The recipient uses the sender public key to verify the integrity of another message with the same digital signature**  \n",
    "We use the verify_signature() function to check the signature for a given message and a given private key."
   ]
  },
  {
   "cell_type": "code",
   "execution_count": 5,
   "metadata": {
    "execution": {
     "iopub.execute_input": "2023-03-29T16:39:41.342950Z",
     "iopub.status.busy": "2023-03-29T16:39:41.338906Z",
     "iopub.status.idle": "2023-03-29T16:39:41.354098Z",
     "shell.execute_reply": "2023-03-29T16:39:41.353127Z",
     "shell.execute_reply.started": "2023-03-29T16:39:41.342901Z"
    },
    "tags": []
   },
   "outputs": [
    {
     "name": "stdout",
     "output_type": "stream",
     "text": [
      "New message:  I owe John 19 pounds, Sincerely Francesco Roda\n",
      "The digital signature proves the integrity of the message False\n"
     ]
    }
   ],
   "source": [
    "message_changed = \"I owe John 19 pounds, Sincerely Francesco Roda\"\n",
    "print(\"New message: \", message_changed)\n",
    "test = verify_signature(public_key, signature, message_changed)\n",
    "print(\"The digital signature proves the integrity of the message\", test) "
   ]
  },
  {
   "cell_type": "markdown",
   "metadata": {
    "execution": {
     "iopub.execute_input": "2023-03-24T12:29:10.415679Z",
     "iopub.status.busy": "2023-03-24T12:29:10.414996Z",
     "iopub.status.idle": "2023-03-24T12:29:11.003276Z",
     "shell.execute_reply": "2023-03-24T12:29:11.000846Z",
     "shell.execute_reply.started": "2023-03-24T12:29:10.415645Z"
    }
   },
   "source": [
    "**\"Sending\" messages**  \n",
    "Digitally signed messages can be send via email to the intended recipient but they do not guarantee privacy: if the message is intercepted, its content is clear for everyone to read.  \n",
    "Public key cryptography can be used to enforce privacy of cimmunications.  \n",
    "The recipe is as follows:  \n",
    "> The recipient publishes her public key  \n",
    "> The sender encrypts the message with her public key of the recipient  \n",
    "> The encrypted message is published: there is no need to send it as no one but the recipient can decrypt it       \n",
    "> The recipient decrypts the message with her private key to access its content   \n",
    ">\n",
    "💡 Public key cryptography is also called asymettric cryptography: the asymmetry refers to the role of the public key (encypt messages) and the need for the private key to decrypt them.\n",
    "💡 More formally:   \n",
    "> a single key is required to encypt a message (the public key of the recipient)  \n",
    "> both keys are required to decrypt a message  \n",
    "> the public key can be derived from the private key but **not vice versa**   \n",
    ">\n",
    "The code below defines functions that use the SECP256K1 algorithm to encrypt and decrypt messages.   "
   ]
  },
  {
   "cell_type": "code",
   "execution_count": 6,
   "metadata": {
    "execution": {
     "iopub.execute_input": "2023-03-29T16:39:42.905849Z",
     "iopub.status.busy": "2023-03-29T16:39:42.905478Z",
     "iopub.status.idle": "2023-03-29T16:39:45.980604Z",
     "shell.execute_reply": "2023-03-29T16:39:45.979869Z",
     "shell.execute_reply.started": "2023-03-29T16:39:42.905825Z"
    },
    "tags": []
   },
   "outputs": [
    {
     "name": "stdout",
     "output_type": "stream",
     "text": [
      "Requirement already satisfied: eciespy in /opt/conda/envs/saturn/lib/python3.9/site-packages (0.3.13)\n",
      "Requirement already satisfied: eth-keys<0.5.0,>=0.4.0 in /opt/conda/envs/saturn/lib/python3.9/site-packages (from eciespy) (0.4.0)\n",
      "Requirement already satisfied: pycryptodome<4.0.0,>=3.15.0 in /opt/conda/envs/saturn/lib/python3.9/site-packages (from eciespy) (3.17)\n",
      "Requirement already satisfied: coincurve<18,>=13 in /opt/conda/envs/saturn/lib/python3.9/site-packages (from eciespy) (17.0.0)\n",
      "Requirement already satisfied: cffi>=1.3.0 in /opt/conda/envs/saturn/lib/python3.9/site-packages (from coincurve<18,>=13->eciespy) (1.15.0)\n",
      "Requirement already satisfied: asn1crypto in /opt/conda/envs/saturn/lib/python3.9/site-packages (from coincurve<18,>=13->eciespy) (1.5.1)\n",
      "Requirement already satisfied: eth-typing<4,>=3.0.0 in /opt/conda/envs/saturn/lib/python3.9/site-packages (from eth-keys<0.5.0,>=0.4.0->eciespy) (3.3.0)\n",
      "Requirement already satisfied: eth-utils<3.0.0,>=2.0.0 in /opt/conda/envs/saturn/lib/python3.9/site-packages (from eth-keys<0.5.0,>=0.4.0->eciespy) (2.1.0)\n",
      "Requirement already satisfied: pycparser in /opt/conda/envs/saturn/lib/python3.9/site-packages (from cffi>=1.3.0->coincurve<18,>=13->eciespy) (2.21)\n",
      "Requirement already satisfied: eth-hash>=0.3.1 in /opt/conda/envs/saturn/lib/python3.9/site-packages (from eth-utils<3.0.0,>=2.0.0->eth-keys<0.5.0,>=0.4.0->eciespy) (0.5.1)\n",
      "Requirement already satisfied: cytoolz>=0.10.1 in /opt/conda/envs/saturn/lib/python3.9/site-packages (from eth-utils<3.0.0,>=2.0.0->eth-keys<0.5.0,>=0.4.0->eciespy) (0.11.2)\n",
      "Requirement already satisfied: toolz>=0.8.0 in /opt/conda/envs/saturn/lib/python3.9/site-packages (from cytoolz>=0.10.1->eth-utils<3.0.0,>=2.0.0->eth-keys<0.5.0,>=0.4.0->eciespy) (0.11.2)\n",
      "Note: you may need to restart the kernel to use updated packages.\n"
     ]
    }
   ],
   "source": [
    "%pip install eciespy\n",
    "import binascii\n",
    "from ecies.utils import generate_eth_key, hex2prv\n",
    "from ecies import encrypt, decrypt\n",
    "def encrypt_message(public_key, message):\n",
    "    return encrypt(public_key, message.encode()).hex()\n",
    "def decrypt_message(private_key, cipher):\n",
    "    return decrypt(private_key,  bytes.fromhex(cipher)).decode()"
   ]
  },
  {
   "cell_type": "markdown",
   "metadata": {},
   "source": [
    "**Group Exercise**    \n",
    "Work in pairs to complete the following tasks:  \n",
    "> 1) Exchange a signed message and verify its integrity\n",
    "> 2) Exchange an encrypted message\n",
    "> 3) Exchange an encrypted and signed message  \n",
    ">\n",
    "💡 To complete these task each player would need to create a key pair. Players should not not disclose their private keys!  \n",
    "\n",
    "💭 ***Use the functions defined in this workbook. For your convenience they are listed below***  \n",
    "> generate_keys()  ℹ️ *Returns a public key and a private key. Store the private key somewhere you can retrieve it from and send the public key to anyone you wish to communicate with (ideally, you would publish it to a secure repository)*    \n",
    "> derive_public_key(private_key_asc)  ℹ️ *Requires a valid private key. You can use the one that you generated and saved. You probably do not need this function unless you forget your public key (but you still have your private key)*       \n",
    "> sign_message(message, private_key)  ℹ️ *Requires the message to be signed and the private key you will sign the message with. The function will return a signature, send it to anyone you wish to communicate with*  \n",
    "> verify_signature(public_key, signature, message)  ℹ️ *Requires the publick key of the author of the message, the signature and the message to be verified*  \n",
    "> encrypt_message(public_key, message)  ℹ️ *Requires the publick key of the recipient of the message, and the message to be encrypted. The funciton returns the encrypted (unreadaeble) message*      \n",
    "> decrypt_message(private_key, encrypted message)  ℹ️ *Requires the private key of the recipient of the message, and the encrypted message to be decrypted*    \n",
    "        \n",
    "💭 ***Remember to use single or dourble quotes ('some text and 1 number' or \"some text and 1 number\") when entering strings of characters; alternatively use variables to store keys, signatures and messages, for example:***  \n",
    ">    private_key, public_key = generate_keys()  \n",
    "    *this function, unlike others, returns two values which you have to capture in two separate variables*  "
   ]
  },
  {
   "cell_type": "code",
   "execution_count": null,
   "metadata": {},
   "outputs": [],
   "source": []
  }
 ],
 "metadata": {
  "kernelspec": {
   "display_name": "saturn (Python 3)",
   "language": "python",
   "name": "python3"
  },
  "language_info": {
   "codemirror_mode": {
    "name": "ipython",
    "version": 3
   },
   "file_extension": ".py",
   "mimetype": "text/x-python",
   "name": "python",
   "nbconvert_exporter": "python",
   "pygments_lexer": "ipython3",
   "version": "3.9.12"
  }
 },
 "nbformat": 4,
 "nbformat_minor": 4
}
