{
 "cells": [
  {
   "cell_type": "markdown",
   "id": "bde7fc98-db51-44f7-be14-701cbd0a6071",
   "metadata": {},
   "source": [
    "# From Functional Programming to Object Oriented Programming #  \n",
    "So far you have used functions to generate keys and handle transacitons.  \n",
    "This way of writing code is called ***Functional Programming***.  \n",
    "Solidity, the language used on Ethereum to develop smart contracts, is an object oriented programming language.\n",
    "Smart contracts are ***objects*** derived or ***instantiated*** (to use the correct term) from a ***class***.\n",
    "\n",
    "## Functional Programming ##\n",
    "You can write a new function in Python as follows:  \n",
    "\n",
    "```python\n",
    "def name_of_the_function(inputs separate by commas):\n",
    "    some operations on the inputs  \n",
    "    return some value returned by the function\n",
    "``` \n",
    " \n",
    "The keyword **def**  tells the system that a definition of a function will  follow  \n",
    "the funciton must have a name, it can have some or no inputs and can return some or no values    \n",
    "Remember to use the keyword **return** to tell the system that what follows is (or are) the value (or values) returned by the function.  \n",
    "\n",
    "You can write your own functions to solve specific problems.\n",
    " \n",
    " For example, if you try to divide any number by zero, the system will complain, halting the execution of your program and dispalying an error message.  \n",
    "Try, for example: \n",
    "```python\n",
    "print(10/0)\n",
    "```\n",
    "You could write a function to handle this situation garcefully. For example, you can decide to return a zero, inthe event that users attempt to divide a number by zero.  \n",
    "```python\n",
    "def divide(numerator, denominator):\n",
    "    if denominator == 0:\n",
    "        return 0\n",
    "    else:\n",
    "        return numerator/denominator \n",
    "```\n",
    "You can use this function for the following calculations:\n",
    "```python\n",
    "print(divide(10,5))\n",
    "print(divide(10,0))\n",
    "```\n",
    "\n",
    "Functions can accept and return numbers, strings (collections of characters) and more complex data structures such as mappings, lists of key-value pairs, where keys are unique and values can be anything you like.   \n",
    "Use the kwyword **dict()** to create a new mapping\n",
    "```python\n",
    "my_mapping = dict(string_variable = \"Value\", integer_variable = 1, float_value = 0.5) \n",
    "```\n",
    "Use this notation to access the content of the mapping:\n",
    "\n",
    "```python\n",
    "print(my_mapping[\"string_variable\"])\n",
    "```\n",
    "\n",
    "\n",
    "**Exercise**  \n",
    "Write a mapping with two or more elements that are numbers\n",
    "Write a function that, given that mapping, returns to function to add the   \n",
    "#Cell 1"
   ]
  },
  {
   "cell_type": "code",
   "execution_count": 21,
   "id": "2c502470-f450-4492-93fd-b9ea1734cb45",
   "metadata": {},
   "outputs": [
    {
     "name": "stdout",
     "output_type": "stream",
     "text": [
      "Value\n"
     ]
    }
   ],
   "source": [
    "# Your code\n",
    "my_mapping = dict(string_variable = \"Value\", integer_variable = 1, float_value = 0.5) \n",
    "print(my_mapping[\"string_variable\"])\n",
    "\n",
    "#Cell2"
   ]
  },
  {
   "cell_type": "code",
   "execution_count": 24,
   "id": "23c78034-9e15-4bae-a678-ed5380832685",
   "metadata": {},
   "outputs": [],
   "source": [
    "class currency:\n",
    "    symbol = \"\"\n",
    "    name = \"\"\n",
    "    balance = 0\n",
    "\n",
    "\n",
    "    \n",
    "    \n",
    "print(Pound.name)\n",
    "print(Pound.symbol)\n",
    "print (Pound.balance)"
   ]
  },
  {
   "cell_type": "code",
   "execution_count": 27,
   "id": "8f196f48-51c6-4345-8ce0-c2e7a63564d8",
   "metadata": {},
   "outputs": [
    {
     "name": "stdout",
     "output_type": "stream",
     "text": [
      "British Pound\n",
      "GBP\n",
      "0\n",
      "-10\n"
     ]
    },
    {
     "ename": "TypeError",
     "evalue": "unsupported operand type(s) for +: 'currency' and 'currency'",
     "output_type": "error",
     "traceback": [
      "\u001b[0;31m---------------------------------------------------------------------------\u001b[0m",
      "\u001b[0;31mTypeError\u001b[0m                                 Traceback (most recent call last)",
      "Cell \u001b[0;32mIn[27], line 10\u001b[0m\n\u001b[1;32m      8\u001b[0m Pound\u001b[38;5;241m.\u001b[39mtransfer(\u001b[38;5;241m10\u001b[39m)\n\u001b[1;32m      9\u001b[0m \u001b[38;5;28mprint\u001b[39m(Pound\u001b[38;5;241m.\u001b[39mbalance)\n\u001b[0;32m---> 10\u001b[0m \u001b[38;5;28mprint\u001b[39m(\u001b[43mPound\u001b[49m\u001b[43m \u001b[49m\u001b[38;5;241;43m+\u001b[39;49m\u001b[43m \u001b[49m\u001b[43mPound\u001b[49m)\n",
      "\u001b[0;31mTypeError\u001b[0m: unsupported operand type(s) for +: 'currency' and 'currency'"
     ]
    }
   ],
   "source": [
    "\n",
    "\n",
    "print(Pound.name)\n",
    "print(Pound.symbol)\n",
    "print (Pound.balance)\n",
    "Pound.transfer(10)\n",
    "print(Pound.balance)\n"
   ]
  },
  {
   "cell_type": "code",
   "execution_count": null,
   "id": "720a9e72-7def-40d6-a3d6-72567267e0cc",
   "metadata": {},
   "outputs": [],
   "source": [
    "print(\"Generating functions...\") \n",
    "\n",
    "%pip install web3 -q\n",
    "\n",
    "from eth_account import Account\n",
    "from web3 import Web3, HTTPProvider\n",
    "from web3.gas_strategies.rpc import rpc_gas_price_strategy\n",
    "import json\n",
    "\n",
    "def create_transaction(account_from, address_to, value, gas_price):\n",
    "#    w3 = Web3(HTTPProvider('https://sepolia.infura.io/v3/fae476cc30ff43e0813948aca32f409d'))\n",
    "    w3 = Web3(HTTPProvider('https://endpoints.omniatech.io/v1/eth/sepolia/public'))\n",
    "    return dict (nonce=w3.eth.get_transaction_count(account_from),\n",
    "            #maxFeePerGas = w3.to_wei(gas_price, 'gwei'),\n",
    "            gas = 21000,\n",
    "            gasPrice = w3.to_wei(gas_price, 'gwei'),\n",
    "            to = address_to,\n",
    "            chainId = 11155111,\n",
    "            value = w3.to_wei(value, \"ether\"))\n",
    "\n",
    "def sign_transaction(transaction, private_key):\n",
    "    w3 = Web3(HTTPProvider('https://sepolia.infura.io/v3/fae476cc30ff43e0813948aca32f409d'))\n",
    "    signed = w3.eth.account.sign_transaction(transaction, private_key)\n",
    "    return signed.rawTransaction\n",
    "\n",
    "def post_transaction(signed_transaction):\n",
    "    w3 = Web3(HTTPProvider('https://sepolia.infura.io/v3/fae476cc30ff43e0813948aca32f409d'))\n",
    "    tx_hash=w3.eth.send_raw_transaction(signed_transaction)\n",
    "    return tx_hash\n",
    "\n",
    "def create_contract_transaction(ABI, Bytecode, gas_price):\n",
    "    w3 = Web3(HTTPProvider('https://sepolia.infura.io/v3/fae476cc30ff43e0813948aca32f409d'))\n",
    "    contract_ = w3.eth.contract(abi=ABI, bytecode=Bytecode)\n",
    "    txn = contract_.constructor().buildTransaction({\n",
    "    'from': account_from,\n",
    "    'nonce': w3.eth.get_transaction_count(account_from),\n",
    "    'gas': 3000000,\n",
    "    'gasPrice': w3.toWei(gas_price, 'gwei'),\n",
    "    'chainId': 11155111})\n",
    "    return txn\n",
    "\n",
    "def load_abi(file):\n",
    "    f = open(file)\n",
    "    # a dictionary\n",
    "    data = json.load(f)\n",
    "    f.close()\n",
    "    return data['abi']   \n",
    "\n",
    "print(\"Functions generated, you can now use the functions on this workbook to derive Ethereum addresses from a given private key and transfer funds.\")\n"
   ]
  },
  {
   "cell_type": "code",
   "execution_count": 26,
   "id": "2c6cc185-9fdf-4779-8600-06fc8567805b",
   "metadata": {},
   "outputs": [
    {
     "name": "stdout",
     "output_type": "stream",
     "text": [
      "[{'inputs': [{'internalType': 'uint256', 'name': 'total', 'type': 'uint256'}, {'internalType': 'string', 'name': 'tokenName', 'type': 'string'}, {'internalType': 'string', 'name': 'tokenSymbol', 'type': 'string'}], 'stateMutability': 'nonpayable', 'type': 'constructor'}, {'anonymous': False, 'inputs': [{'indexed': True, 'internalType': 'address', 'name': 'from', 'type': 'address'}, {'indexed': True, 'internalType': 'address', 'name': 'to', 'type': 'address'}, {'indexed': False, 'internalType': 'uint256', 'name': 'tokens', 'type': 'uint256'}], 'name': 'Transfer', 'type': 'event'}, {'inputs': [{'internalType': 'address', 'name': 'tokenOwner', 'type': 'address'}], 'name': 'balanceOf', 'outputs': [{'internalType': 'uint256', 'name': '', 'type': 'uint256'}], 'stateMutability': 'view', 'type': 'function'}, {'inputs': [], 'name': 'decimals', 'outputs': [{'internalType': 'uint8', 'name': '', 'type': 'uint8'}], 'stateMutability': 'view', 'type': 'function'}, {'inputs': [], 'name': 'name', 'outputs': [{'internalType': 'string', 'name': '', 'type': 'string'}], 'stateMutability': 'view', 'type': 'function'}, {'inputs': [], 'name': 'symbol', 'outputs': [{'internalType': 'string', 'name': '', 'type': 'string'}], 'stateMutability': 'view', 'type': 'function'}, {'inputs': [], 'name': 'totalSupply', 'outputs': [{'internalType': 'uint256', 'name': '', 'type': 'uint256'}], 'stateMutability': 'view', 'type': 'function'}, {'inputs': [{'internalType': 'address', 'name': 'receiver', 'type': 'address'}, {'internalType': 'uint256', 'name': 'numTokens', 'type': 'uint256'}], 'name': 'transfer', 'outputs': [{'internalType': 'bool', 'name': '', 'type': 'bool'}], 'stateMutability': 'nonpayable', 'type': 'function'}, {'inputs': [{'internalType': 'address', 'name': 'owner', 'type': 'address'}, {'internalType': 'address', 'name': 'buyer', 'type': 'address'}, {'internalType': 'uint256', 'name': 'numTokens', 'type': 'uint256'}], 'name': 'transferFrom', 'outputs': [{'internalType': 'bool', 'name': '', 'type': 'bool'}], 'stateMutability': 'nonpayable', 'type': 'function'}]\n"
     ]
    }
   ],
   "source": [
    "\n",
    "byte = '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'\n",
    "abi = load_abi('ERC20_compData.json')\n",
    "print(abi)\n",
    "#create_contract_transaction(abi, byte, 3000)"
   ]
  },
  {
   "cell_type": "code",
   "execution_count": null,
   "id": "61c1459d-7430-437a-a608-3f51b7d5b7cc",
   "metadata": {},
   "outputs": [],
   "source": [
    "create_contract_transaction((f['abi']),f['']"
   ]
  },
  {
   "cell_type": "code",
   "execution_count": null,
   "id": "2a5ae45a-d681-4442-a788-13bb949a786e",
   "metadata": {},
   "outputs": [],
   "source": []
  }
 ],
 "metadata": {
  "kernelspec": {
   "display_name": "Python 3 (ipykernel)",
   "language": "python",
   "name": "python3"
  },
  "language_info": {
   "codemirror_mode": {
    "name": "ipython",
    "version": 3
   },
   "file_extension": ".py",
   "mimetype": "text/x-python",
   "name": "python",
   "nbconvert_exporter": "python",
   "pygments_lexer": "ipython3",
   "version": "3.10.9"
  }
 },
 "nbformat": 4,
 "nbformat_minor": 5
}
