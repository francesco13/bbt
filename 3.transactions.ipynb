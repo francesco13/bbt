{
 "cells": [
  {
   "cell_type": "code",
   "execution_count": null,
   "id": "c4a9c380-ae28-4c26-ac63-58b2dec573ab",
   "metadata": {
    "tags": []
   },
   "outputs": [],
   "source": [
    "from eth_account import Account\n",
    "\n",
    "def pad64(s):\n",
    "    s = str(hex(s))[2:]\n",
    "    return s.zfill(64)\n",
    "def eth_account(private_key):\n",
    "    return Account.from_key(pad64(private_key)).address, pad64(private_key)\n"
   ]
  },
  {
   "cell_type": "code",
   "execution_count": null,
   "id": "78dd8c39-d643-4755-b4e6-084e409d2adc",
   "metadata": {},
   "outputs": [],
   "source": [
    "eth_account(21845)"
   ]
  },
  {
   "cell_type": "code",
   "execution_count": null,
   "id": "c223f3c3-1454-4d12-bcc5-00b97f07ea7d",
   "metadata": {
    "tags": []
   },
   "outputs": [],
   "source": [
    "%pip install web3 -q\n",
    "from web3 import Web3, HTTPProvider\n",
    "from web3.gas_strategies.rpc import rpc_gas_price_strategy\n",
    "infura = Web3(HTTPProvider('https://sepolia.infura.io/v3/fae476cc30ff43e0813948aca32f409d'))\n",
    "balance =  w3.eth.get_balance('0x4FDcbde2d505036d2F38a8fF8b27A3ae06F1DD31')\n",
    "ebalance = w3.from_wei(balance, \"ether\")\n",
    "print(ebalance)\n",
    "#print (\"Latest Ethereum block number\" , w3.eth.block_number)"
   ]
  },
  {
   "cell_type": "code",
   "execution_count": 26,
   "id": "a91ab114-3dd6-438c-8906-60d0f733c268",
   "metadata": {
    "execution": {
     "iopub.execute_input": "2023-03-31T15:33:08.687634Z",
     "iopub.status.busy": "2023-03-31T15:33:08.687226Z",
     "iopub.status.idle": "2023-03-31T15:33:08.739057Z",
     "shell.execute_reply": "2023-03-31T15:33:08.738284Z",
     "shell.execute_reply.started": "2023-03-31T15:33:08.687608Z"
    },
    "tags": []
   },
   "outputs": [
    {
     "name": "stdout",
     "output_type": "stream",
     "text": [
      "SignedTransaction(rawTransaction=HexBytes('0xf86b8084540ae484825208944fdcbde2d505036d2f38a8ff8b27a3ae06f1dd31880de0b6b3a7640000801ba0df26a066d3185e23084abd88e65b92121c1664f950615eea33ce58ed0b92a897a03698a93c35840d2af8ebbb6639ed68f71bcf209143f1f335a3c635709f47616b'), hash=HexBytes('0x94ef29f749358279197f1673adf13221b13db6126d067117ef436636ac602580'), r=100934012474090947592834234492028719445182760883733423655912508306493480806551, s=24694622595707981293336129920462173732176615182035580254116301688887686160747, v=27)\n"
     ]
    }
   ],
   "source": [
    "account_from = {\n",
    "    \"private_key\": \"0000000000000000000000000000000000000000000000000000000000550886\",\n",
    "    \"address\": \"0x4FDcbde2d505036d2F38a8fF8b27A3ae06F1DD31\",\n",
    "}\n",
    "address_to = \"0x4FDcbde2d505036d2F38a8fF8b27A3ae06F1DD31\"\n",
    "w3.eth.set_gas_price_strategy(rpc_gas_price_strategy)\n",
    "tx_create = w3.eth.account.sign_transaction(\n",
    "    {\n",
    "        \"nonce\": w3.eth.get_transaction_count(account_from[\"address\"]),\n",
    "        \"gasPrice\": w3.eth.generate_gas_price(),\n",
    "        \"gas\": 21000,\n",
    "        \"to\": address_to,\n",
    "        \"value\": w3.to_wei(\"1\", \"ether\"),\n",
    "    },\n",
    "    account_from[\"private_key\"],\n",
    ")\n",
    "\n",
    "print(tx_create)\n",
    "#tx_hash = w3.eth.send_raw_transaction(tx_create.rawTransaction)\n",
    "#tx_receipt = web3.eth.wait_for_transaction_receipt(tx_hash)"
   ]
  },
  {
   "cell_type": "code",
   "execution_count": null,
   "id": "8c214233-de58-445b-a1e2-98eee1516192",
   "metadata": {
    "tags": []
   },
   "outputs": [],
   "source": [
    "w3.eth.account.toWei(\"1\", \"ether\")"
   ]
  },
  {
   "cell_type": "code",
   "execution_count": null,
   "id": "81cc0332-c8f9-4222-aaef-d223b56caba7",
   "metadata": {},
   "outputs": [],
   "source": []
  }
 ],
 "metadata": {
  "kernelspec": {
   "display_name": "saturn (Python 3)",
   "language": "python",
   "name": "python3"
  },
  "language_info": {
   "codemirror_mode": {
    "name": "ipython",
    "version": 3
   },
   "file_extension": ".py",
   "mimetype": "text/x-python",
   "name": "python",
   "nbconvert_exporter": "python",
   "pygments_lexer": "ipython3",
   "version": "3.9.12"
  }
 },
 "nbformat": 4,
 "nbformat_minor": 5
}
