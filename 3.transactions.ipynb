{
 "cells": [
  {
   "attachments": {},
   "cell_type": "markdown",
   "id": "3616ae4c-9b7f-4295-b4fc-e892a9aa1c2d",
   "metadata": {
    "execution": {
     "iopub.execute_input": "2023-04-03T08:44:07.193083Z",
     "iopub.status.busy": "2023-04-03T08:44:07.192430Z",
     "iopub.status.idle": "2023-04-03T08:44:07.200072Z",
     "shell.execute_reply": "2023-04-03T08:44:07.199073Z",
     "shell.execute_reply.started": "2023-04-03T08:44:07.193052Z"
    },
    "tags": []
   },
   "source": [
    "#  3. Transactions  \n",
    "\n",
    "In the previous session we generated private keys and addresses on the blockchain.  \n",
    "In this session we will transfer Ethers from your account to another account.    \n",
    "There are several strategies and tools to do this:  \n",
    "> Use myetherwallet.com.    \n",
    "> Use a wallet recommended by the ethereum foundation https://ethereum.org/en/wallets/find-wallet/  \n",
    "> Generate a unsigned transaction and use a hardware wallet to sign it.  \n",
    "> Generate a unsigned transaction and use a Hardware Security Module (\"HSM\") to sign it. Main vendors are listed here: https://webencrypt.org/hsm/  \n",
    ">\n",
    "All the strategies listed above perform three logical steps:  \n",
    "\n",
    "**Step 1: Create a transaction based on the following information** \n",
    "* account (or accounts) which the Ethers are to be sent from (**sender account**)    \n",
    "* account (or accounts) which the Ethers are to be sent to (**recipient account**)   \n",
    "* the transaction fees that you intend to offer[1] to miners to prioritise your transaction over those submitted by other users of the blockchain.  \n",
    "[1] Check the current market rates for fees here https://beaconcha.in/gasnow for the main network or here https://sepolia.beaconcha.in/gasnow for the test network. Of course, you can offer less than the lowest price observed but your transaction would be at risk of getting ignored by miners.\n",
    "\n",
    "**Step 2: Sign the transaction**  \n",
    "\n",
    "💭 To be valid, the transaction has to be signed with the private key of the **sender account**.  \n",
    "\n",
    "**Step 3: Post the transaction to the blockchain**  \n",
    "\n",
    "The transaction is posted on your node and from there broadcast on the blockchain through the other nodes (peers) connected to your node.  \n",
    "If you do not have a node, you can use a node that is made available by node-as-a-service vendors (like Infura or  Alchemy).  \n",
    "Alternatively, the transaction can be posted to free online services like https://sepolia.beaconcha.in/tools/broadcast or - only for mainnet transactions - https://live.blockcypher.com/eth/pushtx/?t=None  \n",
    "\n",
    "💡 A signed transaction does not contain confidential information and cannot be tampered with.  \n",
    "\n",
    "Once posted, signed transactions are available to miners, who can include them in a block that they intend to mine. Once mined the block is appended to the blockchain and is considered final.  \n",
    "\n",
    "Inadequate processes and system controls around the three steps above, may result in a loss of assets and in the failure to transfer assets on a timely basis.  \n",
    "Specifically:\n",
    "* Issues affecting step one may result in erroneous or fraudulent transactions that - if unchecked prior to signing - may move assets to inappropriate accounts.  \n",
    "* Inadequate fees offered in step one may also result in transactions being left behind by miners, remaining pending in the mempool, and eventually dropped.  \n",
    "* Step two is critical, as private keys are retrieved from the secure storage and used to sign transactions.  \n",
    "* Issues affecting step three may only affect the timeliness of transactions.\n",
    "\n",
    "The code below defines the functions to generate an Ethereum account from a given private key (similar to those that you have already seen in the previous module) and post a transaction on the Ethereum blockchain.    \n",
    "\n",
    "#Cell 1"
   ]
  },
  {
   "cell_type": "code",
   "execution_count": null,
   "id": "71ef2333-64a8-4511-b886-9041d7ace597",
   "metadata": {
    "slideshow": {
     "slide_type": "slide"
    },
    "tags": []
   },
   "outputs": [],
   "source": [
    "print(\"Generating functions...\") \n",
    "\n",
    "%pip install web3 -q\n",
    "%pip install eth_account -q\n",
    "\n",
    "from eth_account import Account\n",
    "from web3 import Web3, HTTPProvider\n",
    "from web3.gas_strategies.rpc import rpc_gas_price_strategy\n",
    "import binascii\n",
    "\n",
    "\n",
    "def pad64(s):\n",
    "    s = str(hex(s))[2:]\n",
    "    return s.zfill(64)\n",
    "def eth_account(private_key):\n",
    "    return Account.from_key(pad64(private_key)).address, pad64(private_key)\n",
    "\n",
    "def str2hex(s):\n",
    "    h = \"\"\n",
    "    for c in s:\n",
    "        h += hex(ord(c))[2:]\n",
    "    return int(h, 16) , len(h)  \n",
    "\n",
    "def balance(account):\n",
    "    w3 = Web3(HTTPProvider('https://endpoints.omniatech.io/v1/eth/sepolia/public'))\n",
    "    return  w3.from_wei(w3.eth.get_balance(account),'ether')\n",
    "\n",
    "def create_transaction(account_from, address_to, value, gas_price):\n",
    "#    w3 = Web3(HTTPProvider('https://sepolia.infura.io/v3/fae476cc30ff43e0813948aca32f409d'))\n",
    "    w3 = Web3(HTTPProvider('https://endpoints.omniatech.io/v1/eth/sepolia/public'))\n",
    "    return dict (nonce=w3.eth.get_transaction_count(account_from),\n",
    "            #maxFeePerGas = w3.to_wei(gas_price, 'gwei'),\n",
    "            gas = 21000,\n",
    "            gasPrice = w3.to_wei(gas_price, 'gwei'),\n",
    "            to = address_to,\n",
    "            chainId = 11155111,\n",
    "            value = w3.to_wei(value, \"ether\"))\n",
    "\n",
    "def sign_transaction(transaction, private_key):\n",
    "    w3 = Web3(HTTPProvider('https://sepolia.infura.io/v3/fae476cc30ff43e0813948aca32f409d'))\n",
    "    signed = w3.eth.account.sign_transaction(transaction, private_key)\n",
    "    return signed.rawTransaction\n",
    "\n",
    "def post_transaction(signed_transaction):\n",
    "    w3 = Web3(HTTPProvider('https://sepolia.infura.io/v3/fae476cc30ff43e0813948aca32f409d'))\n",
    "    tx_hash=w3.eth.send_raw_transaction(signed_transaction)\n",
    "    return tx_hash\n",
    "\n",
    "print(\"Functions generated, you can now use the functions on this workbook to derive Ethereum addresses from a given private key and transfer funds.\")\n",
    "\n",
    "#Cell 2"
   ]
  },
  {
   "cell_type": "markdown",
   "id": "3544d1f4-0ab6-447a-8036-200591713cc2",
   "metadata": {},
   "source": [
    "**Create an account and request test Ethers**  \n",
    "Use the functions defined above to generate an account and request test funds from your instructor.  \n",
    "We will use Sepolia a public Ethereum test network.  \n",
    "Check that you have received some tokens using https://sepolia.beaconcha.in/ (Sepolia block explorer).  \n",
    "Remember to save your public key and private keys somewhere where you can retrieve them (use notepad and store them in variables on your workbook).  \n",
    "Use variables to get the values returned from the functions.  You can use the funciton print(*variable*) to dispaly the content of the variable. "
   ]
  },
  {
   "cell_type": "code",
   "execution_count": null,
   "id": "bb52cecb-8759-4314-847e-e6205a2f438d",
   "metadata": {
    "tags": []
   },
   "outputs": [],
   "source": [
    "#Your code\n",
    "\n",
    "\n",
    "#Cell 3"
   ]
  },
  {
   "cell_type": "markdown",
   "id": "68fcbf50-3af0-4d15-b2d3-923fcb257f48",
   "metadata": {
    "tags": []
   },
   "source": [
    "**Group Exercise**  \n",
    "Work in pairs to transfer two million wei (10^-12 ethers, i.e. 0.000000000002 Ethers) to each other.  \n",
    "Remember to offer a good gas price to ensure that your transaction is executed as quickly as possible.    \n",
    "💡 You can check the current rates of gas on Sepolia here https://sepolia.beaconcha.in/gasnow  \n",
    "Check that the transaction has gone through using the Sepolia block explorer.  \n",
    "\n",
    "\n",
    "\n",
    "#Cell 4"
   ]
  },
  {
   "cell_type": "code",
   "execution_count": null,
   "id": "a50b6f4d-8736-4a9b-a284-3bb9d86a63df",
   "metadata": {
    "tags": []
   },
   "outputs": [],
   "source": [
    "#Your code\n",
    "\n",
    "#Cell 5"
   ]
  },
  {
   "cell_type": "markdown",
   "id": "5433985e-d24b-4d81-a6b8-344ebbe5439d",
   "metadata": {},
   "source": [
    "**Cancel a Transaction**  \n",
    "\n",
    "Until transacitons have been picked by miners, added to a new block and the block is mined, transaction are stored in a shared queue called TX-QUEUE or **mempool** (using the Bitcoin terminology). When in the mempool, transactions are **pending** (if the sequence is consistent) or **queued** (if the sequence is not consistent). \n",
    "💭 It is possible to cancel a pending transaction by posting a **new** transaction that: \n",
    "* sends 0 ethers to the same account which the original transaction intended to transfer ethers from  \n",
    "* has higher gas fees  \n",
    "* has the same nonce as the pending transaction.\n",
    "\n",
    "The functions defined for you will replace a transaction while this is still in the mempool as long as the same amount is sent.  \n",
    "\n",
    "**Exercise**  \n",
    "Submit a transaction with a low gas price and check its status on the sepolia explorer.  \n",
    "Whilst the transaction is stuck in the mempool, replace it with another one with higher fees.  \n",
    "\n",
    "#Cell 6"
   ]
  },
  {
   "cell_type": "code",
   "execution_count": null,
   "id": "6601ce1f-3c53-47fe-9737-6af2567e4380",
   "metadata": {},
   "outputs": [],
   "source": [
    "#Your code\n",
    "\n",
    "#Cell 7"
   ]
  }
 ],
 "metadata": {
  "kernelspec": {
   "display_name": "Python 3 (ipykernel)",
   "language": "python",
   "name": "python3"
  },
  "language_info": {
   "codemirror_mode": {
    "name": "ipython",
    "version": 3
   },
   "file_extension": ".py",
   "mimetype": "text/x-python",
   "name": "python",
   "nbconvert_exporter": "python",
   "pygments_lexer": "ipython3",
   "version": "3.10.9"
  }
 },
 "nbformat": 4,
 "nbformat_minor": 5
}
