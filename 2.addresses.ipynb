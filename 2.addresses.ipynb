{
 "cells": [
  {
   "cell_type": "markdown",
   "metadata": {},
   "source": [
    "# Introduction to Keys and Addresses on the Blockchain\n",
    "\n",
    "In the first session we learned about digital signatures, a key application of public key cryptography.  \n",
    "We also encrypted messages to prevent third parties from viewing them; however, on Bitcoin and Ethereum blockchains data is usually unencrypted. Cryptography is used to ensure consistency and integrity of data.  \n",
    "> Users of blockchains can protect their privacy by avoiding associating their identity to the data held on the blockchain.   \n",
    "> Privacy on blockchains is not guaranteed - as it is with encrypting messages - it depends on many factors.   \n",
    "> Blockchains ensure ***pseudonymity*** defined as the near-anonymous state in which a user has a consistent identifier that is not their real name: a pseudonym.      \n",
    "> We will cover this topic in details in a teaching about enhancing Know Your Client (\"KYC\") processes through Know Your Crypto Assets (\"KYCA\") activities.  \n",
    ">\n",
    "To sign messages we created a key pair and distributed the public keys.  \n",
    "💡 In this sesison we will use the key keypair to interact with the two main blockchains, Ethereum and Bitcoin    \n",
    "We will also focus on the risk of generating private keys and securing them.  \n",
    "💭 A blockchain address is a SECP256K1 public key encoded in accordance to the recipe prescribed in the Bitcoin whitepaper and implemented by all bitcoin complienat software    \n",
    "💭 The private key is a 64 characters / 256 bits / 32 bytes hexadecimal number (a number with a radix or base of 16) that complies with the SECP256K1 specifications.  \n",
    "💡 We use the SECP256K1 because it is the standard algorithm mandated by Bitcoin and Ethereum.  \n",
    "> The recipes to encode addresses (i.e. deriving a hash of some sort) from a SECP256K1 public key) are contained in the Bitcoin and Ethereum whitepapers and conveniently packged in libraries.  \n",
    "> We can use the same private key to generate addresses for both Bitcoin and Ethereum blockchains   \n",
    ">\n",
    "\n",
    "**Bitcoin Addresses**\n",
    "From the Public key (a 128 hex characters with a lenghth of  512 bits or 64 bytes) we can derive four different types of addresses.  \n",
    "> ***Taproot address*** - P2TR or Bech32m, starts with ***bc1p*** offers multi-key addresses. It looks the same as single-key addresses giving users of multi-key increased privacy and enables more advanced scripting, enabling more complex smart contracts to be built on bitcoin. It is case insensitive.    \n",
    "> ***SegWit address*** - P2WPKH,  A pay-to-witness-public-key-hash, starts with ***bc1q*** and is case insensitive.  A different encoding for the Pay-to-Witness-Script-Hash (P2WSH) gives a longer key (32 bytes as opposed to 20) with an identical prefix.     \n",
    "> ***Script address*** - P2SH, starts with ***3***. A pay-to-script-hash (P2SH), or script address, can have additional rules and functionality attached to the address. Script addresses are commonly used for multi-sig addresses, which can specify that signatures from several keys are required to authorize the transaction. The address is case sensitive.  \n",
    "> ***Legacy address*** - P2PKH, starts with ***1***. A pay-to-pubkey-hash (P2PKH), or legacy address, is the oldest and original bitcoin address format. The address is case sensitive.   \n",
    "\n",
    "**Ethereum Addresses**\n",
    "There are two types of accounts on the Ethereum network, externally owned accounts and coontract accounts.   \n",
    "> ***Externally owned accounts*** are derived from the a valid SECP256K1 public key, just like the addresses of the Bitcoin blockhcian (the recipe, though, is different)  \n",
    "> ***Contract accounts*** are genertaed authomaitcally by the Ethereum virtual machine when a smart contract is deployed, The do not have a corresponding private key and they are operated by those that can access it.  \n",
    ">\n",
    "\n",
    "Unlike Bitcoin accounts, Ethereum accounts have state fields:  \n",
    "> Nonce: This represents the number of transactions initiated by the account.    \n",
    "> Balance: This represents the balance of the account in Wei.  \n",
    "> CodeHash: The hash of the smart contract code is stored in this field.  For externally owned accounts this field is empty.     \n",
    "> Storage: This field contains the data of the storage variables within the smart contract. For externally owned accounts this field is empty.  \n",
    ">\n",
    "\n",
    "We will care about the differences between Ethereum and bitcoin in future sessions, for the moment:\n",
    "> Bitcoin uses the unspent transaction output (UTXO) model, while Ethereum uses an account-based model. In the UTXO model, a transaction consists of inputs and outputs. The account model is more akin to the traditional acocunting model.  \n",
    "> The Ethereum virtual machine is a touring-complete system, whereas the Bitcoin virtual machine supports a scripting language with limited funcitonality.    \n",
    ">\n",
    "\n",
    "**The code**    \n",
    "Below, we define the functions to generate a SECP256K1 public key from a given private key and encode it into Bitcoin and Ethereum addresses.\n"
   ]
  },
  {
   "cell_type": "code",
   "execution_count": 61,
   "metadata": {
    "execution": {
     "iopub.execute_input": "2023-03-31T14:15:26.755162Z",
     "iopub.status.busy": "2023-03-31T14:15:26.754220Z",
     "iopub.status.idle": "2023-03-31T14:15:32.940503Z",
     "shell.execute_reply": "2023-03-31T14:15:32.939410Z",
     "shell.execute_reply.started": "2023-03-31T14:15:26.755125Z"
    },
    "tags": []
   },
   "outputs": [
    {
     "name": "stdout",
     "output_type": "stream",
     "text": [
      "Note: you may need to restart the kernel to use updated packages.\n",
      "Note: you may need to restart the kernel to use updated packages.\n",
      "You can now use the functions to derive Ethereum and Bitcoin addresses from a given private key.\n"
     ]
    }
   ],
   "source": [
    "%pip install bitcoinaddress -q\n",
    "%pip install web3 -q\n",
    "from eth_account import Account\n",
    "from bitcoinaddress import Wallet\n",
    "\n",
    "def pad64(s):\n",
    "    s = str(hex(s))[2:]\n",
    "    return s.zfill(64)\n",
    "def eth_account(private_key):\n",
    "    return Account.from_key(pad64(private_key)).address\n",
    "\n",
    "def btc_account(private_key):\n",
    "    a=Wallet(pad64(private_key))\n",
    "    return (a.address.mainnet.pubaddr1,\n",
    "            a.address.mainnet.pubaddrbc1_P2WPKH,\n",
    "            a.address.mainnet.pubaddrbc1_P2WSH)\n",
    "print(\"You can now use the functions to derive Ethereum and Bitcoin addresses from a given private key.\") "
   ]
  },
  {
   "cell_type": "markdown",
   "metadata": {},
   "source": [
    "**Generate a private key**  \n",
    "The private key, ultimately, is just a number. It has to satisfy the requirements of the SECP256K1 standard, which prescribes that the number be:\n",
    "- greater than 0\n",
    "- smaller than 115792089237316195423570985008687907852837564279074904382605163141518161494336.  \n",
    "\n",
    "💡 This is a very large number that guarantees no \"collisions\" when generating new addresses.  \n",
    ">A collision occurs when the same private key is generated by multiple algorithms or individuals.    \n",
    ">What if I could test all possible private keys to (from 1 to the maximum number allowed by SECP256K1)?  \n",
    ">Current computers would take several years to crack; qantum computers could take seconds  "
   ]
  },
  {
   "cell_type": "markdown",
   "metadata": {
    "execution": {
     "iopub.execute_input": "2023-03-30T16:49:00.751895Z",
     "iopub.status.busy": "2023-03-30T16:49:00.751492Z",
     "iopub.status.idle": "2023-03-30T16:49:00.760675Z",
     "shell.execute_reply": "2023-03-30T16:49:00.759548Z",
     "shell.execute_reply.started": "2023-03-30T16:49:00.751854Z"
    },
    "tags": []
   },
   "source": [
    "**Exercise**  \n",
    "Use the cell below to genrate some private private keys and check the corresponent addresses on a blockchain explorer.  \n",
    "Use the functions btc_account(***s***) and eth_account(***s***) where ***s*** is an integer number of your choice.   \n",
    "💭 You can use https://live.blockcypher.com or any other block explorer to check transactions and balances associated with that account.\n"
   ]
  },
  {
   "cell_type": "code",
   "execution_count": 59,
   "metadata": {
    "execution": {
     "iopub.execute_input": "2023-03-31T13:57:18.137080Z",
     "iopub.status.busy": "2023-03-31T13:57:18.136665Z",
     "iopub.status.idle": "2023-03-31T13:57:18.147187Z",
     "shell.execute_reply": "2023-03-31T13:57:18.146420Z",
     "shell.execute_reply.started": "2023-03-31T13:57:18.137049Z"
    },
    "tags": []
   },
   "outputs": [
    {
     "name": "stdout",
     "output_type": "stream",
     "text": [
      "('0x4FDcbde2d505036d2F38a8fF8b27A3ae06F1DD31', '0000000000000000000000000000000000000000000000000000000000550886')\n",
      "('1NvPPVArzgKDRZX8vZfy3vxF8w5ojevVSf', 'bc1qhlh6v40eups9cjg00plqzeeezgy2qfdlh2esys', 'bc1qceymh5w2mnn58hfpt5ke4ekysldda5fpqpkffvsv903w4yus9nmq0ztccs', '0000000000000000000000000000000000000000000000000000000000550886')\n"
     ]
    }
   ],
   "source": [
    "#your code:\n",
    "print(eth_account(5572742))\n",
    "print(btc_account(5572742))"
   ]
  },
  {
   "cell_type": "markdown",
   "metadata": {},
   "source": [
    "**Conclusions**  \n",
    "This module allowed you to generate blockchain addresses to receive digital assets.    \n",
    "You have learned about the perils of generating private keys using poor entropy.  \n",
    "In cryptography, entropy refers to the randomness collected by a system for use in algorithms that require random seeds. A lack of good entropy can leave a crypto system vulnerable and unable to encrypt data securely.  \n",
    "> The NIST Federal Information Processing Standard (FIPS) PUB 140-2 requires the use of a Deterministic Random Bit Generator (\"DRBG\"), compliant with SP 800-90A (Recommendation for Random Number Generation Using Deterministic Random Bit Generators) and an entropy source compliant with SP 800-90B (Recommendation for the Entropy Sources Used for Random Bit Generation).  \n",
    ">\n",
    "\n",
    "You should also focus on the risks of generating keys with untrusted infrastructure. For example:\n",
    "> The computer and the server used may have vulnerabilities that an attacker could exploit to copy your private keys.  \n",
    "> The software utilised to generate keys may have bugs (for example: code logic errors, Type confusion, random device errors, poorly handled exceptions, memory reference errors, memory corruption).  \n",
    "> The software may be compromised.  \n",
    "\n",
    "💡 Keys should be generated only on trusted systems that are not connected to the Internet."
   ]
  }
 ],
 "metadata": {
  "kernelspec": {
   "display_name": "saturn (Python 3)",
   "language": "python",
   "name": "python3"
  },
  "language_info": {
   "codemirror_mode": {
    "name": "ipython",
    "version": 3
   },
   "file_extension": ".py",
   "mimetype": "text/x-python",
   "name": "python",
   "nbconvert_exporter": "python",
   "pygments_lexer": "ipython3",
   "version": "3.9.12"
  }
 },
 "nbformat": 4,
 "nbformat_minor": 4
}
